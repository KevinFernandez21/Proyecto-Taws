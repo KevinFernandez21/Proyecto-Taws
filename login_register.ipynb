{
 "cells": [
  {
   "cell_type": "markdown",
   "metadata": {},
   "source": [
    "# LOGIN"
   ]
  },
  {
   "cell_type": "markdown",
   "metadata": {},
   "source": [
    "### login normal"
   ]
  },
  {
   "cell_type": "code",
   "execution_count": null,
   "metadata": {},
   "outputs": [],
   "source": [
    "\n"
   ]
  },
  {
   "cell_type": "markdown",
   "metadata": {},
   "source": [
    "# REGISTER"
   ]
  },
  {
   "cell_type": "markdown",
   "metadata": {},
   "source": [
    "### INFORMACION GENERICA"
   ]
  },
  {
   "cell_type": "code",
   "execution_count": 137,
   "metadata": {},
   "outputs": [],
   "source": [
    "usuario_reg = \"Hombrenaranja21\"\n",
    "pasword_reg1 = \"Orangeman31\"\n",
    "password_reg2 = \"Orangeman31\"\n",
    "name_reg = \"kevin\"\n",
    "last_name_reg = \"Fernandez\"\n",
    "mail_reg = \"kdfenan@espol.edu.ec\"\n",
    "phone_number_reg= \"0980471552\"\n",
    "birtdate_reg = \"11/02/2004\"\n",
    "gender_reg = \"hombre\"\n"
   ]
  },
  {
   "cell_type": "markdown",
   "metadata": {},
   "source": [
    "### CREAR ID PARA CADA USUARIO"
   ]
  },
  {
   "cell_type": "code",
   "execution_count": 139,
   "metadata": {},
   "outputs": [],
   "source": [
    "import random as rd\n",
    "def get_id():\n",
    "    lista_aleatoria = [rd.randint(0, 9) for _ in range(4)]\n",
    "    id = ''.join(str(number) for number in lista_aleatoria)\n",
    "    return id \n",
    "\n",
    "id = get_id()"
   ]
  },
  {
   "cell_type": "markdown",
   "metadata": {},
   "source": [
    "### CREACION ACTUALIZACION DE ARCHIVO"
   ]
  },
  {
   "cell_type": "code",
   "execution_count": 141,
   "metadata": {},
   "outputs": [],
   "source": [
    "import os\n",
    "nombre_archivo = 'mi_archivo.txt'\n",
    "if os.path.exists(nombre_archivo):\n",
    "    with open(nombre_archivo, 'a') as archivo:\n",
    "        archivo.write(id+','+usuario_reg+','+pasword_reg1+','+name_reg+','+last_name_reg +','+mail_reg+','+phone_number_reg+','+birtdate_reg+','+gender_reg+'\\r')\n",
    "else:\n",
    "    with open(nombre_archivo, 'w') as archivo:\n",
    "        archivo.write('ID,USUARIO,PASSWORD,NAME,LASTNAME,MAIL,NUMBERPHONE,BIRTDATE,GENDER'+'\\r')\n"
   ]
  },
  {
   "cell_type": "markdown",
   "metadata": {},
   "source": [
    "### CREACION DE DICCIONARIO PARA VALIDACION DE DATOS"
   ]
  },
  {
   "cell_type": "code",
   "execution_count": 154,
   "metadata": {},
   "outputs": [
    {
     "name": "stdout",
     "output_type": "stream",
     "text": [
      "{'0494': ['Hombrenaranja21', 'Orangeman31', 'kevin', 'Fernandez', 'kdfenan@espol.edu.ec', '0980471552', '11/02/2004', 'hombre']}\n"
     ]
    }
   ],
   "source": [
    "def gen_dic(nombre_archivo):\n",
    "    with open(nombre_archivo, 'r') as archivo:\n",
    "        archivo.readline()\n",
    "        diccionario = {}\n",
    "        for linea in archivo:\n",
    "            info = linea.strip().split(',')\n",
    "            id = info[0]\n",
    "            diccionario[info[0]] = info[1:9]\n",
    "    return diccionario\n",
    "\n",
    "d = gen_dic(\"mi_archivo.txt\")\n",
    "print(d)\n"
   ]
  },
  {
   "cell_type": "markdown",
   "metadata": {},
   "source": [
    "### EXISTENCIA DE CONTRASEÑA"
   ]
  },
  {
   "cell_type": "code",
   "execution_count": 185,
   "metadata": {},
   "outputs": [
    {
     "name": "stdout",
     "output_type": "stream",
     "text": [
      "Contraseña ya existe\n",
      "True\n"
     ]
    }
   ],
   "source": [
    "def bool_password(diccionario,contrasena):\n",
    "    lis_pasword = []\n",
    "    for valores1 in diccionario.values():\n",
    "        lis_pasword.append(valores1[1])\n",
    "    if contrasena in lis_pasword:\n",
    "        print(\"Contraseña ya existe\")\n",
    "        return True\n",
    "    else:\n",
    "        return False\n",
    "print(bool_password(d,pasword_reg1))"
   ]
  },
  {
   "cell_type": "markdown",
   "metadata": {},
   "source": [
    "### VALIDACION CONTRESENA"
   ]
  },
  {
   "cell_type": "code",
   "execution_count": 221,
   "metadata": {},
   "outputs": [
    {
     "name": "stdout",
     "output_type": "stream",
     "text": [
      "Orangeman31\n"
     ]
    },
    {
     "data": {
      "text/plain": [
       "False"
      ]
     },
     "execution_count": 221,
     "metadata": {},
     "output_type": "execute_result"
    }
   ],
   "source": [
    "import re\n",
    "\n",
    "def validar_contrasena(contrasena):\n",
    "    if len(contrasena) < 88:\n",
    "        return False\n",
    "    \n",
    "    patron = re.compile(r'[!@#$%^&*()_+\\-={}\\[\\]:;\"\\'<>,.?/\\\\|0-9]')\n",
    "    patron_sin_simbolos = re.compile(r'^[a-zA-Z0-9]+$')\n",
    "    patron_numero = re.compile(r'[0-9]')\n",
    "    if not (patron_numero.search(contrasena) and patron_sin_simbolos.match(contrasena)):\n",
    "        return False\n",
    "    return True\n",
    "\n",
    "print(pasword_reg1)\n",
    "validar_contrasena(pasword_reg1)"
   ]
  },
  {
   "cell_type": "code",
   "execution_count": 211,
   "metadata": {},
   "outputs": [
    {
     "name": "stdout",
     "output_type": "stream",
     "text": [
      "La contraseña no cumple con los requisitos.\n"
     ]
    }
   ],
   "source": [
    "import re\n",
    "\n",
    "def validar_contrasena(contrasena):\n",
    "    # Verificar si la contraseña tiene al menos 12 caracteres\n",
    "    if len(contrasena) < 12:\n",
    "        return False\n",
    "\n",
    "    # Verificar si la contraseña contiene al menos un número y no tiene símbolos\n",
    "    patron_numero = re.compile(r'[0-9]')\n",
    "    patron_sin_simbolos = re.compile(r'^[a-zA-Z0-9]+$')\n",
    "\n",
    "    if not (patron_numero.search(contrasena) and patron_sin_simbolos.match(contrasena)):\n",
    "        return False\n",
    "\n",
    "    # Si pasa ambas validaciones, la contraseña es válida\n",
    "    return True\n",
    "\n",
    "# Ejemplo de uso\n",
    "contrasena = \"Orangeman21\"\n",
    "\n",
    "if validar_contrasena(contrasena):\n",
    "    print(\"La contraseña es válida.\")\n",
    "else:\n",
    "    print(\"La contraseña no cumple con los requisitos.\")"
   ]
  },
  {
   "cell_type": "markdown",
   "metadata": {},
   "source": [
    "### EXISTENCIA DE CORREO"
   ]
  },
  {
   "cell_type": "code",
   "execution_count": 193,
   "metadata": {},
   "outputs": [
    {
     "name": "stdout",
     "output_type": "stream",
     "text": [
      "El email ya se encuentra registrado\n",
      "True\n"
     ]
    }
   ],
   "source": [
    "def bool_mail(diccionario,mail):\n",
    "    lis_mail = []\n",
    "    for valores2 in diccionario.values():\n",
    "        lis_mail.append(valores2[4])\n",
    "    if mail in lis_mail:\n",
    "        print(\"El email ya se encuentra registrado\")\n",
    "        return True\n",
    "    else:\n",
    "        return False\n",
    "print(bool_mail(d,mail_reg))"
   ]
  },
  {
   "cell_type": "markdown",
   "metadata": {},
   "source": [
    "### VALIDACION DE CORREOS"
   ]
  },
  {
   "cell_type": "code",
   "execution_count": 138,
   "metadata": {},
   "outputs": [
    {
     "name": "stdout",
     "output_type": "stream",
     "text": [
      "True\n"
     ]
    }
   ],
   "source": [
    "import re\n",
    "\n",
    "def validar_correo(correo):\n",
    "    patron = r'^[a-zA-Z0-9._%+-]+@[a-zA-Z0-9.-]+\\.[a-zA-Z]{2,}$'\n",
    "    return re.match(patron, correo) is not None\n",
    "\n",
    "print(validar_correo(mail_reg))"
   ]
  },
  {
   "cell_type": "markdown",
   "metadata": {},
   "source": [
    "### ENVIAR CODIGO DE VIRIFICACION"
   ]
  },
  {
   "cell_type": "code",
   "execution_count": 1,
   "metadata": {},
   "outputs": [
    {
     "ename": "SMTPAuthenticationError",
     "evalue": "(535, b'5.7.8 Username and Password not accepted. Learn more at\\n5.7.8  https://support.google.com/mail/?p=BadCredentials t1-20020a9f3881000000b00796e05cc9b3sm508228uaf.14 - gsmtp')",
     "output_type": "error",
     "traceback": [
      "\u001b[1;31m---------------------------------------------------------------------------\u001b[0m",
      "\u001b[1;31mSMTPAuthenticationError\u001b[0m                   Traceback (most recent call last)",
      "Cell \u001b[1;32mIn[1], line 37\u001b[0m\n\u001b[0;32m     34\u001b[0m asunto \u001b[39m=\u001b[39m \u001b[39m\"\u001b[39m\u001b[39mCorreo de prueba desde Python\u001b[39m\u001b[39m\"\u001b[39m\n\u001b[0;32m     35\u001b[0m mensaje \u001b[39m=\u001b[39m \u001b[39m\"\u001b[39m\u001b[39m¡Hola! Este es un correo de prueba enviado desde Python.\u001b[39m\u001b[39m\"\u001b[39m\n\u001b[1;32m---> 37\u001b[0m enviar_correo(destinatario, asunto, mensaje)\n",
      "Cell \u001b[1;32mIn[1], line 27\u001b[0m, in \u001b[0;36menviar_correo\u001b[1;34m(destinatario, asunto, mensaje)\u001b[0m\n\u001b[0;32m     23\u001b[0m servidor \u001b[39m=\u001b[39m smtplib\u001b[39m.\u001b[39mSMTP(servidor_smtp, puerto_smtp)\n\u001b[0;32m     24\u001b[0m servidor\u001b[39m.\u001b[39mstarttls()\n\u001b[1;32m---> 27\u001b[0m servidor\u001b[39m.\u001b[39;49mlogin(remitente, contraseña)\n\u001b[0;32m     29\u001b[0m servidor\u001b[39m.\u001b[39msendmail(remitente, destinatario, correo\u001b[39m.\u001b[39mas_string())\n\u001b[0;32m     31\u001b[0m servidor\u001b[39m.\u001b[39mquit()\n",
      "File \u001b[1;32mC:\\Program Files\\WindowsApps\\PythonSoftwareFoundation.Python.3.10_3.10.3056.0_x64__qbz5n2kfra8p0\\lib\\smtplib.py:750\u001b[0m, in \u001b[0;36mSMTP.login\u001b[1;34m(self, user, password, initial_response_ok)\u001b[0m\n\u001b[0;32m    747\u001b[0m         last_exception \u001b[39m=\u001b[39m e\n\u001b[0;32m    749\u001b[0m \u001b[39m# We could not login successfully.  Return result of last attempt.\u001b[39;00m\n\u001b[1;32m--> 750\u001b[0m \u001b[39mraise\u001b[39;00m last_exception\n",
      "File \u001b[1;32mC:\\Program Files\\WindowsApps\\PythonSoftwareFoundation.Python.3.10_3.10.3056.0_x64__qbz5n2kfra8p0\\lib\\smtplib.py:739\u001b[0m, in \u001b[0;36mSMTP.login\u001b[1;34m(self, user, password, initial_response_ok)\u001b[0m\n\u001b[0;32m    737\u001b[0m method_name \u001b[39m=\u001b[39m \u001b[39m'\u001b[39m\u001b[39mauth_\u001b[39m\u001b[39m'\u001b[39m \u001b[39m+\u001b[39m authmethod\u001b[39m.\u001b[39mlower()\u001b[39m.\u001b[39mreplace(\u001b[39m'\u001b[39m\u001b[39m-\u001b[39m\u001b[39m'\u001b[39m, \u001b[39m'\u001b[39m\u001b[39m_\u001b[39m\u001b[39m'\u001b[39m)\n\u001b[0;32m    738\u001b[0m \u001b[39mtry\u001b[39;00m:\n\u001b[1;32m--> 739\u001b[0m     (code, resp) \u001b[39m=\u001b[39m \u001b[39mself\u001b[39;49m\u001b[39m.\u001b[39;49mauth(\n\u001b[0;32m    740\u001b[0m         authmethod, \u001b[39mgetattr\u001b[39;49m(\u001b[39mself\u001b[39;49m, method_name),\n\u001b[0;32m    741\u001b[0m         initial_response_ok\u001b[39m=\u001b[39;49minitial_response_ok)\n\u001b[0;32m    742\u001b[0m     \u001b[39m# 235 == 'Authentication successful'\u001b[39;00m\n\u001b[0;32m    743\u001b[0m     \u001b[39m# 503 == 'Error: already authenticated'\u001b[39;00m\n\u001b[0;32m    744\u001b[0m     \u001b[39mif\u001b[39;00m code \u001b[39min\u001b[39;00m (\u001b[39m235\u001b[39m, \u001b[39m503\u001b[39m):\n",
      "File \u001b[1;32mC:\\Program Files\\WindowsApps\\PythonSoftwareFoundation.Python.3.10_3.10.3056.0_x64__qbz5n2kfra8p0\\lib\\smtplib.py:662\u001b[0m, in \u001b[0;36mSMTP.auth\u001b[1;34m(self, mechanism, authobject, initial_response_ok)\u001b[0m\n\u001b[0;32m    660\u001b[0m \u001b[39mif\u001b[39;00m code \u001b[39min\u001b[39;00m (\u001b[39m235\u001b[39m, \u001b[39m503\u001b[39m):\n\u001b[0;32m    661\u001b[0m     \u001b[39mreturn\u001b[39;00m (code, resp)\n\u001b[1;32m--> 662\u001b[0m \u001b[39mraise\u001b[39;00m SMTPAuthenticationError(code, resp)\n",
      "\u001b[1;31mSMTPAuthenticationError\u001b[0m: (535, b'5.7.8 Username and Password not accepted. Learn more at\\n5.7.8  https://support.google.com/mail/?p=BadCredentials t1-20020a9f3881000000b00796e05cc9b3sm508228uaf.14 - gsmtp')"
     ]
    }
   ],
   "source": [
    "import smtplib\n",
    "from email.mime.text import MIMEText\n",
    "from email.mime.multipart import MIMEMultipart\n",
    "\n",
    "def enviar_correo(destinatario, asunto, mensaje):\n",
    "    \n",
    "    servidor_smtp = \"smtp.gmail.com\"\n",
    "    puerto_smtp = 587\n",
    "\n",
    "    \n",
    "    remitente = \"example@gmail.com\"\n",
    "    contraseña = \"example1234\"\n",
    "\n",
    "    \n",
    "    correo = MIMEMultipart()\n",
    "    correo[\"From\"] = remitente\n",
    "    correo[\"To\"] = destinatario\n",
    "    correo[\"Subject\"] = asunto\n",
    "\n",
    "    correo.attach(MIMEText(mensaje, \"plain\"))\n",
    "\n",
    "    \n",
    "    servidor = smtplib.SMTP(servidor_smtp, puerto_smtp)\n",
    "    servidor.starttls()\n",
    "\n",
    "    \n",
    "    servidor.login(remitente, contraseña)\n",
    "\n",
    "    servidor.sendmail(remitente, destinatario, correo.as_string())\n",
    "\n",
    "    servidor.quit()\n",
    "\n",
    "destinatario = \"destinatario@example.com\"\n",
    "asunto = \"Correo de prueba desde Python\"\n",
    "mensaje = \"¡Hola! Este es un correo de prueba enviado desde Python.\"\n",
    "\n",
    "enviar_correo(destinatario, asunto, mensaje)"
   ]
  }
 ],
 "metadata": {
  "kernelspec": {
   "display_name": "Python 3",
   "language": "python",
   "name": "python3"
  },
  "language_info": {
   "codemirror_mode": {
    "name": "ipython",
    "version": 3
   },
   "file_extension": ".py",
   "mimetype": "text/x-python",
   "name": "python",
   "nbconvert_exporter": "python",
   "pygments_lexer": "ipython3",
   "version": "3.10.11"
  },
  "orig_nbformat": 4
 },
 "nbformat": 4,
 "nbformat_minor": 2
}
