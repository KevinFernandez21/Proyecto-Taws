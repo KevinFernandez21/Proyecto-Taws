{
 "cells": [
  {
   "cell_type": "markdown",
   "metadata": {},
   "source": [
    "# LOGIN"
   ]
  },
  {
   "cell_type": "markdown",
   "metadata": {},
   "source": [
    "### login normal"
   ]
  },
  {
   "cell_type": "code",
   "execution_count": null,
   "metadata": {},
   "outputs": [],
   "source": [
    "\n"
   ]
  },
  {
   "cell_type": "markdown",
   "metadata": {},
   "source": [
    "# REGISTER"
   ]
  },
  {
   "cell_type": "markdown",
   "metadata": {},
   "source": [
    "### INFORMACION GENERICA"
   ]
  },
  {
   "cell_type": "code",
   "execution_count": 35,
   "metadata": {},
   "outputs": [],
   "source": [
    "usuario_reg = \"Hombrenaranja21\"\n",
    "pasword_reg1 = \"Orangeman31\"\n",
    "password_reg2 = \"Orangeman31\"\n",
    "name_reg = \"kevin\"\n",
    "last_name_reg = \"Fernandez\"\n",
    "mail_reg = \"kdfenan@espol.edu.ec\"\n",
    "phone_number_reg= \"0980471552\"\n",
    "birtdate_reg = \"11/02/2004\"\n",
    "gender_reg = \"hombre\"\n"
   ]
  },
  {
   "cell_type": "markdown",
   "metadata": {},
   "source": [
    "### VALIDACION DE CORREOS"
   ]
  },
  {
   "cell_type": "code",
   "execution_count": 36,
   "metadata": {},
   "outputs": [
    {
     "name": "stdout",
     "output_type": "stream",
     "text": [
      "True\n"
     ]
    }
   ],
   "source": [
    "import re\n",
    "\n",
    "def validar_correo(correo):\n",
    "    patron = r'^[a-zA-Z0-9._%+-]+@[a-zA-Z0-9.-]+\\.[a-zA-Z]{2,}$'\n",
    "    return re.match(patron, correo) is not None\n",
    "\n",
    "print(validar_correo(mail_reg))"
   ]
  },
  {
   "cell_type": "markdown",
   "metadata": {},
   "source": [
    "### CREAR ID PARA CADA USUARIO"
   ]
  },
  {
   "cell_type": "code",
   "execution_count": 59,
   "metadata": {},
   "outputs": [],
   "source": [
    "import random as rd\n",
    "def get_id():\n",
    "    lista_aleatoria = [rd.randint(0, 9) for _ in range(4)]\n",
    "    id = ''.join(str(number) for number in lista_aleatoria)\n",
    "    return id \n",
    "\n",
    "id = get_id()"
   ]
  },
  {
   "cell_type": "markdown",
   "metadata": {},
   "source": [
    "### CIFRAR DATO"
   ]
  },
  {
   "cell_type": "code",
   "execution_count": 81,
   "metadata": {},
   "outputs": [],
   "source": [
    "import bcrypt\n",
    "\n",
    "def encriptar_contrasena(dato):\n",
    "    salto = bcrypt.gensalt()\n",
    "    dato_cifrada = bcrypt.hashpw(dato.encode('utf-8'), salto)\n",
    "    return dato_cifrada.decode('utf-8')"
   ]
  },
  {
   "cell_type": "markdown",
   "metadata": {},
   "source": [
    "### VALIDAR DATO EMCRIPTADO"
   ]
  },
  {
   "cell_type": "code",
   "execution_count": 105,
   "metadata": {},
   "outputs": [],
   "source": [
    "def verificar_contrasena(contrasena_plana, contrasena_cifrada):\n",
    "    # Convertir la contraseña cifrada almacenada en la base de datos a bytes\n",
    "    contrasena_cifrada_bytes = contrasena_cifrada.encode('utf-8')\n",
    "\n",
    "    # Verificar si la contraseña ingresada coincide con la almacenada\n",
    "    return bcrypt.checkpw(contrasena_plana.encode('utf-8'), contrasena_cifrada_bytes)"
   ]
  },
  {
   "cell_type": "markdown",
   "metadata": {},
   "source": [
    "### CREACION DE ARCHIVO"
   ]
  },
  {
   "cell_type": "code",
   "execution_count": 92,
   "metadata": {},
   "outputs": [],
   "source": [
    "import os\n",
    "nombre_archivo = 'mi_archivo.txt'\n",
    "if os.path.exists(nombre_archivo):\n",
    "    with open(nombre_archivo, 'a') as archivo:\n",
    "        archivo.write(id+','+usuario_reg+','+encriptar_contrasena(pasword_reg1)+','+name_reg+','+last_name_reg +','+mail_reg+','+phone_number_reg+','+birtdate_reg+','+gender_reg+'\\r')\n",
    "else:\n",
    "    with open(nombre_archivo, 'w') as archivo:\n",
    "        archivo.write('ID,USUARIO,PASSWORD,NAME,LASTNAME,MAIL,NUMBERPHONE,BIRTDATE,GENDER'+'\\r')\n"
   ]
  },
  {
   "cell_type": "markdown",
   "metadata": {},
   "source": [
    "### CREACION DE DICCIONARIO PARA VALIDACION DE DATOS"
   ]
  },
  {
   "cell_type": "code",
   "execution_count": 111,
   "metadata": {},
   "outputs": [
    {
     "name": "stdout",
     "output_type": "stream",
     "text": [
      "$2b$12$P4VpsIIqc/oM1fuiRW1tHuOdwn6cORDfDISCbxjsMeje4PCjnsXaG\n",
      "{'5710': ['Hombrenaranja21', '$2b$12$P4VpsIIqc/oM1fuiRW1tHuOdwn6cORDfDISCbxjsMeje4PCjnsXaG', 'kevin', 'Fernandez', 'kdfenan@espol.edu.ec', '0980471552', '11/02/2004', 'hombre']}\n"
     ]
    }
   ],
   "source": [
    "with open(nombre_archivo, 'r') as archivo:\n",
    "    archivo.readline()\n",
    "    diccionario = {}\n",
    "    for linea in archivo:\n",
    "        info = linea.strip().split(',')\n",
    "        id = info[0]\n",
    "        print(info[2])\n",
    "        diccionario[info[0]] = info[1:9]\n",
    "    print(diccionario)"
   ]
  }
 ],
 "metadata": {
  "kernelspec": {
   "display_name": "Python 3",
   "language": "python",
   "name": "python3"
  },
  "language_info": {
   "codemirror_mode": {
    "name": "ipython",
    "version": 3
   },
   "file_extension": ".py",
   "mimetype": "text/x-python",
   "name": "python",
   "nbconvert_exporter": "python",
   "pygments_lexer": "ipython3",
   "version": "3.10.11"
  },
  "orig_nbformat": 4
 },
 "nbformat": 4,
 "nbformat_minor": 2
}
