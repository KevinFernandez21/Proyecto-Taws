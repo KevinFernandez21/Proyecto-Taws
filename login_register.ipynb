{
 "cells": [
  {
   "cell_type": "markdown",
   "metadata": {},
   "source": [
    "# LOGIN"
   ]
  },
  {
   "cell_type": "markdown",
   "metadata": {},
   "source": [
    "### INFORMACION GENERICA"
   ]
  },
  {
   "cell_type": "code",
   "execution_count": 186,
   "metadata": {},
   "outputs": [],
   "source": [
    "usuario_reg = \"Hombrenaranja21\"\n",
    "pasword_reg1 = \"sicambio1234\"\n",
    "mail_reg = \"kdfenan@espol.edu.ec\""
   ]
  },
  {
   "cell_type": "markdown",
   "metadata": {},
   "source": [
    "### VALIDACION DE USUARIO"
   ]
  },
  {
   "cell_type": "code",
   "execution_count": 187,
   "metadata": {},
   "outputs": [
    {
     "data": {
      "text/plain": [
       "True"
      ]
     },
     "execution_count": 187,
     "metadata": {},
     "output_type": "execute_result"
    }
   ],
   "source": [
    "\n",
    "def verficar_modificar_reescribir(contrasena,mail_usuario,diccionario):\n",
    "    for key,values in diccionario.items():\n",
    "        ob_mail = values[4]\n",
    "        ob_usuario = values[0]\n",
    "        if ob_mail == mail_usuario or mail_usuario == ob_usuario:\n",
    "            cont_cont = diccionario[key][1]\n",
    "            if cont_cont == contrasena:\n",
    "                return True\n",
    "            else:\n",
    "                return False"
   ]
  },
  {
   "cell_type": "markdown",
   "metadata": {},
   "source": [
    "# REGISTER"
   ]
  },
  {
   "cell_type": "markdown",
   "metadata": {},
   "source": [
    "### INFORMACION GENERICA"
   ]
  },
  {
   "cell_type": "code",
   "execution_count": null,
   "metadata": {},
   "outputs": [],
   "source": [
    "usuario_reg = \"Hombrenaranja21\"\n",
    "pasword_reg1 = \"Orangeman31\"\n",
    "password_reg2 = \"Orangeman31\"\n",
    "name_reg = \"kevin\"\n",
    "last_name_reg = \"Fernandez\"\n",
    "mail_reg = \"kdfenan@espol.edu.ec\"\n",
    "phone_number_reg= \"0980471552\"\n",
    "birtdate_reg = \"11/02/2004\"\n",
    "gender_reg = \"hombre\"\n"
   ]
  },
  {
   "cell_type": "markdown",
   "metadata": {},
   "source": [
    "### CREAR ID PARA CADA USUARIO"
   ]
  },
  {
   "cell_type": "code",
   "execution_count": null,
   "metadata": {},
   "outputs": [],
   "source": [
    "import random as rd\n",
    "def get_id():\n",
    "    lista_aleatoria = [rd.randint(0, 9) for _ in range(4)]\n",
    "    id = ''.join(str(number) for number in lista_aleatoria)\n",
    "    return id \n",
    "\n",
    "id = get_id()"
   ]
  },
  {
   "cell_type": "markdown",
   "metadata": {},
   "source": [
    "### CREACION ACTUALIZACION DE ARCHIVO"
   ]
  },
  {
   "cell_type": "code",
   "execution_count": null,
   "metadata": {},
   "outputs": [],
   "source": [
    "import os\n",
    "nombre_archivo = 'mi_archivo.txt'\n",
    "if os.path.exists(nombre_archivo):\n",
    "    with open(nombre_archivo, 'a') as archivo:\n",
    "        archivo.write(id+','+usuario_reg+','+pasword_reg1+','+name_reg+','+last_name_reg +','+mail_reg+','+phone_number_reg+','+birtdate_reg+','+gender_reg+'\\r')\n",
    "else:\n",
    "    with open(nombre_archivo, 'w') as archivo:\n",
    "        archivo.write('ID,USUARIO,PASSWORD,NAME,LASTNAME,MAIL,NUMBERPHONE,BIRTDATE,GENDER'+'\\r')\n"
   ]
  },
  {
   "cell_type": "markdown",
   "metadata": {},
   "source": [
    "### CREACION DE DICCIONARIO PARA VALIDACION DE DATOS"
   ]
  },
  {
   "cell_type": "code",
   "execution_count": null,
   "metadata": {},
   "outputs": [],
   "source": [
    "def gen_dic(nombre_archivo):\n",
    "    with open(nombre_archivo, 'r') as archivo:\n",
    "        archivo.readline()\n",
    "        diccionario = {}\n",
    "        for linea in archivo:\n",
    "            info = linea.strip().split(',')\n",
    "            id = info[0]\n",
    "            diccionario[info[0]] = info[1:9]\n",
    "    return diccionario\n"
   ]
  },
  {
   "cell_type": "markdown",
   "metadata": {},
   "source": [
    "### EXISTENCIA DE CONTRASEÑA"
   ]
  },
  {
   "cell_type": "code",
   "execution_count": null,
   "metadata": {},
   "outputs": [],
   "source": [
    "def bool_password(diccionario,contrasena):\n",
    "    lis_pasword = []\n",
    "    for valores1 in diccionario.values():\n",
    "        lis_pasword.append(valores1[1])\n",
    "    if contrasena in lis_pasword:\n",
    "        print(\"Contraseña ya existe\")\n",
    "        return True\n",
    "    else:\n",
    "        return False"
   ]
  },
  {
   "cell_type": "markdown",
   "metadata": {},
   "source": [
    "### VERIFICAR SI CONTRA1 Y CONTRA 2 SON IGUALES"
   ]
  },
  {
   "cell_type": "code",
   "execution_count": null,
   "metadata": {},
   "outputs": [],
   "source": [
    "def igu_password(contra1,contra2):\n",
    "    if contra1 == contra2:\n",
    "        return True\n",
    "    else:\n",
    "        return False"
   ]
  },
  {
   "cell_type": "markdown",
   "metadata": {},
   "source": [
    "### VALIDACION CONTRESENA"
   ]
  },
  {
   "cell_type": "code",
   "execution_count": null,
   "metadata": {},
   "outputs": [],
   "source": [
    "import re\n",
    "\n",
    "def validar_contrasena(contrasena):\n",
    "    if len(contrasena) < 7:\n",
    "        return False\n",
    "    \n",
    "    patron_numero = re.compile(r'[0-9]')\n",
    "    patron_sin_simbolos = re.compile(r'^[a-zA-Z0-9]+$')\n",
    "    patron_simbolo = re.compile(r'[!@#$%^&*()_+\\-={}\\[\\]:;\"\\'<>,.?/\\\\|]')\n",
    "\n",
    "    if not ((patron_numero.search(contrasena) and patron_sin_simbolos.match(contrasena)) or (patron_simbolo.search(contrasena) and patron_numero.search(contrasena))):\n",
    "        return False\n",
    "    return True"
   ]
  },
  {
   "cell_type": "markdown",
   "metadata": {},
   "source": [
    "### EXISTENCIA DE CORREO"
   ]
  },
  {
   "cell_type": "code",
   "execution_count": null,
   "metadata": {},
   "outputs": [],
   "source": [
    "def bool_mail(diccionario,mail):\n",
    "    lis_mail = []\n",
    "    for valores2 in diccionario.values():\n",
    "        lis_mail.append(valores2[4])\n",
    "    if mail in lis_mail:\n",
    "        return True\n",
    "    else:\n",
    "        return False\n"
   ]
  },
  {
   "cell_type": "markdown",
   "metadata": {},
   "source": [
    "### VALIDACION DE CORREOS"
   ]
  },
  {
   "cell_type": "code",
   "execution_count": null,
   "metadata": {},
   "outputs": [],
   "source": [
    "import re\n",
    "\n",
    "def validar_correo(correo):\n",
    "    patron = r'^[a-zA-Z0-9._%+-]+@[a-zA-Z0-9.-]+\\.[a-zA-Z]{2,}$'\n",
    "    return re.match(patron, correo) is not None\n"
   ]
  },
  {
   "cell_type": "markdown",
   "metadata": {},
   "source": [
    "### GENERAR CODIGO PARA VERIFICAR RECUPERAR CONTRASEÑA"
   ]
  },
  {
   "cell_type": "code",
   "execution_count": null,
   "metadata": {},
   "outputs": [],
   "source": [
    "import random as rd\n",
    "def gen_numero_verificacion():\n",
    "    lista_aleatoria = [rd.randint(0, 9) for _ in range(6)]\n",
    "    numero_verificacion = ''.join(str(number) for number in lista_aleatoria)\n",
    "    return numero_verificacion \n",
    "\n",
    "codigo_obt = gen_numero_verificacion()\n"
   ]
  },
  {
   "cell_type": "markdown",
   "metadata": {},
   "source": [
    "### VERFICAR EL CODIGO ENVIADO PREVIAMENTE Y REESCRIBIR LA CONTRASENA RECUPERADA INGRESADA"
   ]
  },
  {
   "cell_type": "code",
   "execution_count": null,
   "metadata": {},
   "outputs": [],
   "source": [
    "def verficar_modificar_reescribir(codigo_ing,codigo_obt,n_contrasena1,mail,diccionario):\n",
    "    if(codigo_ing == codigo_obt):\n",
    "        \n",
    "        for key,values in diccionario.items():\n",
    "            ob_mail = values[4]\n",
    "            if mail == ob_mail:\n",
    "                diccionario[key][1] = n_contrasena1\n",
    "        with open(nombre_archivo, 'w') as archivo:\n",
    "            archivo.write('ID,USUARIO,PASSWORD,NAME,LASTNAME,MAIL,NUMBERPHONE,BIRTDATE,GENDER'+'\\r')  \n",
    "            for key,values in diccionario.items():\n",
    "                archivo.write(key+','+values[0]+','+values[1]+','+values[2]+','+values[3]+','+values[4]+','+values[5]+','+values[6]+'\\r')"
   ]
  },
  {
   "cell_type": "markdown",
   "metadata": {},
   "source": [
    "### ENVIAR CODIGO DE VIRIFICACION"
   ]
  },
  {
   "cell_type": "code",
   "execution_count": null,
   "metadata": {},
   "outputs": [],
   "source": [
    "import smtplib\n",
    "from email.mime.text import MIMEText\n",
    "from email.mime.multipart import MIMEMultipart\n",
    "\n",
    "def enviar_correo(destinatario, asunto, mensaje):\n",
    "    \n",
    "    servidor_smtp = \"smtp.gmail.com\"\n",
    "    puerto_smtp = 587\n",
    "\n",
    "    \n",
    "    remitente = \"watchstatshub@gmail.com\"\n",
    "    contraseña = \"vmlpanojudiqdneo\"\n",
    "\n",
    "    \n",
    "    correo = MIMEMultipart()\n",
    "    correo[\"From\"] = remitente\n",
    "    correo[\"To\"] = destinatario\n",
    "    correo[\"Subject\"] = asunto\n",
    "\n",
    "    correo.attach(MIMEText(mensaje, \"plain\"))\n",
    "\n",
    "    \n",
    "    servidor = smtplib.SMTP(servidor_smtp, puerto_smtp)\n",
    "    servidor.starttls()\n",
    "\n",
    "    \n",
    "    servidor.login(remitente, contraseña)\n",
    "\n",
    "    servidor.sendmail(remitente, destinatario, correo.as_string())\n",
    "\n",
    "    servidor.quit()\n",
    "\n",
    "destinatario = \"fernandessanchezdavid@gmail.com\"\n",
    "asunto = \"Verifica tu dirección de correo electrónico de recuperación\"\n",
    "mensaje = \"Su codigo de verificacion es:\"+\"\\r\"+gen_numero_verificacion()\n",
    "\n",
    "enviar_correo(destinatario, asunto, mensaje)"
   ]
  }
 ],
 "metadata": {
  "kernelspec": {
   "display_name": "Python 3",
   "language": "python",
   "name": "python3"
  },
  "language_info": {
   "codemirror_mode": {
    "name": "ipython",
    "version": 3
   },
   "file_extension": ".py",
   "mimetype": "text/x-python",
   "name": "python",
   "nbconvert_exporter": "python",
   "pygments_lexer": "ipython3",
   "version": "3.10.11"
  },
  "orig_nbformat": 4
 },
 "nbformat": 4,
 "nbformat_minor": 2
}
