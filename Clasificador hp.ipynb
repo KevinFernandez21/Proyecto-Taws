{
  "cells": [
    {
      "cell_type": "markdown",
      "metadata": {
        "id": "9IotBZez6bSb"
      },
      "source": [
        "# 1.- Descargar librerias"
      ]
    },
    {
      "cell_type": "code",
      "execution_count": 1,
      "metadata": {
        "colab": {
          "base_uri": "https://localhost:8080/"
        },
        "id": "96pVwI776bSc",
        "outputId": "09d205f3-7ea6-4df8-a762-79cf88375d02"
      },
      "outputs": [
        {
          "name": "stdout",
          "output_type": "stream",
          "text": [
            "\u001b[31mERROR: Invalid requirement: 'gradio#instalar'\u001b[0m\u001b[31m\n",
            "\u001b[0m"
          ]
        }
      ],
      "source": [
        "%pip install numpy pandas tensorflow tensorflowjs matplotlib seaborn zipfile pillow scikit-learn gradio playsound#instalar directamiente desde el cmd con permisos de administrador o ejecutar el IDE de uso como administrador"
      ]
    },
    {
      "cell_type": "markdown",
      "metadata": {
        "id": "1C7TJgrO6bSf"
      },
      "source": [
        "# 2.-Importar librerias de librerias"
      ]
    },
    {
      "cell_type": "code",
      "execution_count": 1,
      "metadata": {
        "id": "BkmD2r3u6bSg"
      },
      "outputs": [],
      "source": [
        "import numpy as np\n",
        "import pandas as pd\n",
        "import random\n",
        "import os\n",
        "import matplotlib.pyplot as plt\n",
        "import seaborn as sns\n",
        "import zipfile\n",
        "import sys\n",
        "import time\n",
        "import tensorflow.keras as keras\n",
        "import tensorflow as tf\n",
        "import re\n",
        "\n",
        "\n",
        "from PIL import Image\n",
        "from keras.preprocessing.image import ImageDataGenerator\n",
        "from keras.regularizers import l2\n",
        "from keras.models import load_model, Sequential\n",
        "from keras.utils import to_categorical, load_img\n",
        "from keras.layers import Lambda\n",
        "from keras.callbacks import EarlyStopping\n",
        "from sklearn.model_selection import train_test_split\n",
        "from sklearn.metrics import classification_report\n",
        "from keras.models import Sequential\n",
        "from keras.layers import Dropout, Dense, Activation,GlobalAveragePooling2D,Dropout"
      ]
    },
    {
      "cell_type": "code",
      "execution_count": 5,
      "metadata": {
        "id": "ICa8_UHr6bSi"
      },
      "outputs": [
        {
          "name": "stdout",
          "output_type": "stream",
          "text": [
            "Package                      Version\n",
            "---------------------------- -----------\n",
            "absl-py                      1.4.0\n",
            "aiofiles                     23.2.1\n",
            "aiohttp                      3.8.5\n",
            "aiosignal                    1.3.1\n",
            "altair                       5.1.1\n",
            "anyio                        3.7.1\n",
            "app                          0.0.1\n",
            "array-record                 0.4.1\n",
            "asgiref                      3.6.0\n",
            "asttokens                    2.2.1\n",
            "astunparse                   1.6.3\n",
            "async-timeout                4.0.2\n",
            "attrs                        23.1.0\n",
            "backcall                     0.2.0\n",
            "bcrypt                       4.0.1\n",
            "button                       0.0.3.post3\n",
            "cachetools                   5.3.1\n",
            "certifi                      2022.12.7\n",
            "charset-normalizer           2.1.1\n",
            "chex                         0.1.82\n",
            "click                        8.1.6\n",
            "colorama                     0.4.6\n",
            "comm                         0.1.3\n",
            "contourpy                    1.0.6\n",
            "cycler                       0.11.0\n",
            "Cython                       0.29.19\n",
            "dataclasses-json             0.5.13\n",
            "debugpy                      1.6.7\n",
            "decorator                    5.1.1\n",
            "Django                       4.1.5\n",
            "dm-tree                      0.1.8\n",
            "docutils                     0.19\n",
            "et-xmlfile                   1.1.0\n",
            "etils                        1.4.1\n",
            "exceptiongroup               1.1.3\n",
            "executing                    1.2.0\n",
            "fastapi                      0.103.1\n",
            "ffmpy                        0.3.1\n",
            "filelock                     3.12.2\n",
            "flatbuffers                  23.5.26\n",
            "flax                         0.7.2\n",
            "fonttools                    4.38.0\n",
            "frozenlist                   1.4.0\n",
            "fsspec                       2023.6.0\n",
            "gast                         0.4.0\n",
            "google-auth                  2.22.0\n",
            "google-auth-oauthlib         0.4.6\n",
            "google-pasta                 0.2.0\n",
            "googleapis-common-protos     1.60.0\n",
            "gradio                       3.43.0\n",
            "gradio_client                0.5.0\n",
            "greenlet                     2.0.2\n",
            "grpcio                       1.56.2\n",
            "h11                          0.14.0\n",
            "h5py                         3.9.0\n",
            "httpcore                     0.17.3\n",
            "httpx                        0.24.1\n",
            "huggingface-hub              0.16.4\n",
            "idna                         3.4\n",
            "image                        1.5.33\n",
            "importlib-resources          6.0.1\n",
            "ipykernel                    6.24.0\n",
            "ipython                      8.14.0\n",
            "jax                          0.4.14\n",
            "jaxlib                       0.4.14\n",
            "jedi                         0.18.2\n",
            "Jinja2                       3.1.2\n",
            "joblib                       1.3.2\n",
            "jsonschema                   4.19.0\n",
            "jsonschema-specifications    2023.7.1\n",
            "jupyter_client               8.3.0\n",
            "jupyter_core                 5.3.1\n",
            "keras                        2.11.0\n",
            "keras-tqdm                   2.0.1\n",
            "Kivy                         2.1.0\n",
            "kivy-deps.angle              0.3.3\n",
            "kivy-deps.glew               0.3.1\n",
            "kivy-deps.sdl2               0.4.5\n",
            "Kivy-Garden                  0.1.5\n",
            "kivy-garden.graph            0.4.0\n",
            "kivy3                        0.0.1.dev0\n",
            "kivymd                       1.1.1\n",
            "kiwisolver                   1.4.4\n",
            "label                        0.1.1\n",
            "langchain                    0.0.137\n",
            "libclang                     16.0.6\n",
            "lxml                         4.9.3\n",
            "Markdown                     3.4.4\n",
            "markdown-it-py               3.0.0\n",
            "MarkupSafe                   2.1.3\n",
            "marshmallow                  3.20.1\n",
            "matplotlib                   3.7.2\n",
            "matplotlib-inline            0.1.6\n",
            "mdurl                        0.1.2\n",
            "ml-dtypes                    0.2.0\n",
            "mplcursors                   0.5.2\n",
            "msgpack                      1.0.5\n",
            "multidict                    6.0.4\n",
            "mypy-extensions              1.0.0\n",
            "mysql                        0.0.3\n",
            "mysql-connector              2.2.9\n",
            "mysql-connector-python       8.0.31\n",
            "mysqlclient                  2.1.1\n",
            "nest-asyncio                 1.5.6\n",
            "node                         1.2\n",
            "npm                          0.1.1\n",
            "numpy                        1.25.2\n",
            "oauthlib                     3.2.2\n",
            "odict                        1.9.0\n",
            "openai                       0.27.8\n",
            "openapi-schema-pydantic      1.2.4\n",
            "opencv-python                4.8.0.74\n",
            "openpyxl                     3.0.10\n",
            "opt-einsum                   3.3.0\n",
            "optax                        0.1.7\n",
            "optional-django              0.1.0\n",
            "orbax-checkpoint             0.3.5\n",
            "orjson                       3.9.5\n",
            "packaging                    20.9\n",
            "panda                        0.3.1\n",
            "pandas                       1.5.2\n",
            "parso                        0.8.3\n",
            "pickleshare                  0.7.5\n",
            "Pillow                       9.4.0\n",
            "pip                          23.2.1\n",
            "platformdirs                 3.9.1\n",
            "plumber                      1.7\n",
            "promise                      2.3\n",
            "prompt-toolkit               3.0.39\n",
            "protobuf                     3.19.6\n",
            "psutil                       5.9.5\n",
            "pure-eval                    0.2.2\n",
            "pyasn1                       0.5.0\n",
            "pyasn1-modules               0.3.0\n",
            "pycocotools                  2.0.6\n",
            "pydantic                     1.10.11\n",
            "pydub                        0.25.1\n",
            "pygame                       2.1.2\n",
            "Pygments                     2.14.0\n",
            "pyparsing                    3.0.9\n",
            "pypiwin32                    223\n",
            "PyQt5                        5.15.9\n",
            "PyQt5-Qt5                    5.15.2\n",
            "PyQt5-sip                    12.12.2\n",
            "python-dateutil              2.8.2\n",
            "python-dotenv                1.0.0\n",
            "python-multipart             0.0.6\n",
            "python-version               0.0.2\n",
            "pytz                         2022.7\n",
            "pywin32                      305\n",
            "PyYAML                       6.0.1\n",
            "pyzmq                        25.1.0\n",
            "referencing                  0.30.2\n",
            "requests                     2.28.1\n",
            "requests-oauthlib            1.3.1\n",
            "rich                         13.5.2\n",
            "rpds-py                      0.10.2\n",
            "rsa                          4.9\n",
            "scikit-learn                 1.3.0\n",
            "scipy                        1.11.2\n",
            "seaborn                      0.12.2\n",
            "semantic-version             2.10.0\n",
            "setuptools                   68.1.0\n",
            "six                          1.16.0\n",
            "sniffio                      1.3.0\n",
            "SQLAlchemy                   1.4.49\n",
            "sqlparse                     0.4.3\n",
            "stack-data                   0.6.2\n",
            "starlette                    0.27.0\n",
            "tenacity                     8.2.2\n",
            "tensorboard                  2.11.2\n",
            "tensorboard-data-server      0.6.1\n",
            "tensorboard-plugin-wit       1.8.1\n",
            "tensorflow                   2.11.1\n",
            "tensorflow-datasets          4.9.2\n",
            "tensorflow-estimator         2.11.0\n",
            "tensorflow-hub               0.12.0\n",
            "tensorflow-intel             2.11.1\n",
            "tensorflow-io-gcs-filesystem 0.31.0\n",
            "tensorflow-metadata          1.14.0\n",
            "tensorflowjs                 3.21.0\n",
            "tensorstore                  0.1.41\n",
            "termcolor                    2.3.0\n",
            "textinput                    0.2.0\n",
            "tf-slim                      1.1.0\n",
            "threadpoolctl                3.2.0\n",
            "toml                         0.10.2\n",
            "toolz                        0.12.0\n",
            "tornado                      6.3.2\n",
            "tqdm                         4.64.1\n",
            "traitlets                    5.9.0\n",
            "typing_extensions            4.5.0\n",
            "typing-inspect               0.9.0\n",
            "tzdata                       2022.7\n",
            "urllib3                      1.26.13\n",
            "urlrequest                   1.0.3\n",
            "uvicorn                      0.23.2\n",
            "wcwidth                      0.2.6\n",
            "websockets                   11.0.3\n",
            "Werkzeug                     2.3.6\n",
            "wget                         3.2\n",
            "wheel                        0.41.0\n",
            "wrapt                        1.15.0\n",
            "yarl                         1.9.2\n",
            "zipp                         3.16.2\n",
            "zope.component               5.1.0\n",
            "zope.deferredimport          4.4\n",
            "zope.deprecation             4.4.0\n",
            "zope.event                   4.6\n",
            "zope.hookable                5.4\n",
            "zope.interface               5.5.2\n",
            "zope.lifecycleevent          4.4\n",
            "zope.proxy                   5.0.0\n",
            "Note: you may need to restart the kernel to use updated packages.\n"
          ]
        },
        {
          "name": "stderr",
          "output_type": "stream",
          "text": [
            "WARNING: Ignoring invalid distribution - (c:\\users\\hombr\\appdata\\local\\packages\\pythonsoftwarefoundation.python.3.10_qbz5n2kfra8p0\\localcache\\local-packages\\python310\\site-packages)\n",
            "WARNING: Ignoring invalid distribution -ensorflow-intel (c:\\users\\hombr\\appdata\\local\\packages\\pythonsoftwarefoundation.python.3.10_qbz5n2kfra8p0\\localcache\\local-packages\\python310\\site-packages)\n",
            "WARNING: Ignoring invalid distribution -rotobuf (c:\\users\\hombr\\appdata\\local\\packages\\pythonsoftwarefoundation.python.3.10_qbz5n2kfra8p0\\localcache\\local-packages\\python310\\site-packages)\n"
          ]
        }
      ],
      "source": [
        "%pip list"
      ]
    },
    {
      "cell_type": "markdown",
      "metadata": {
        "id": "fCON7NcV6bSj"
      },
      "source": [
        "# 3.- Definir Contastantes"
      ]
    },
    {
      "cell_type": "code",
      "execution_count": 2,
      "metadata": {
        "id": "WE-_mRL96bSj"
      },
      "outputs": [],
      "source": [
        "IMAGE_WIDTH = 224\n",
        "IMAGE_HEIGHT = 224\n",
        "IMAGE_SIZE=(IMAGE_WIDTH, IMAGE_HEIGHT)\n",
        "IMAGE_CHANNELS = 3\n",
        "\n",
        "\n",
        "base_path = \"dataset-resized/\"\n",
        "categories = {0: 'battery', 1: 'biological', 2: 'cardboard', 3: 'glass', 4: 'metal', 5: 'paper', 6: 'plastic',7: 'trash'}"
      ]
    },
    {
      "cell_type": "markdown",
      "metadata": {
        "id": "RBktDSpz6bSk"
      },
      "source": [
        "# 4.- Cargar datos a Dataframe"
      ]
    },
    {
      "cell_type": "code",
      "execution_count": 7,
      "metadata": {
        "colab": {
          "base_uri": "https://localhost:8080/"
        },
        "id": "bfDhg_zW6bSk",
        "outputId": "d202d1c2-9435-4a99-f8d1-496ce1959676"
      },
      "outputs": [
        {
          "name": "stdout",
          "output_type": "stream",
          "text": [
            "                    filename  category\n",
            "0       battery/battery1.jpg         0\n",
            "1      battery/battery10.jpg         0\n",
            "2     battery/battery100.jpg         0\n",
            "3     battery/battery101.jpg         0\n",
            "4     battery/battery102.jpg         0\n",
            "...                      ...       ...\n",
            "7638       trash/trash95.jpg         7\n",
            "7639       trash/trash96.jpg         7\n",
            "7640       trash/trash97.jpg         7\n",
            "7641       trash/trash98.jpg         7\n",
            "7642       trash/trash99.jpg         7\n",
            "\n",
            "[7643 rows x 2 columns]\n",
            "number of elements =  7643\n"
          ]
        }
      ],
      "source": [
        "def add_class_name_prefix(df, col_name):\n",
        "    df[col_name] = df[col_name].apply(lambda x: x[:re.search(\"\\d\",x).start()] + '/' + x)\n",
        "    return df\n",
        "\n",
        "# list conatining all the filenames in the dataset\n",
        "filenames_list = []\n",
        "# list to store the corresponding category, note that each folder of the dataset has one class of data\n",
        "categories_list = []\n",
        "\n",
        "for category in categories:\n",
        "    filenames = os.listdir(base_path + categories[category])\n",
        "\n",
        "    filenames_list = filenames_list  +filenames\n",
        "    categories_list = categories_list + [category] * len(filenames)\n",
        "\n",
        "df = pd.DataFrame({\n",
        "    'filename': filenames_list,\n",
        "    'category': categories_list\n",
        "})\n",
        "\n",
        "df = add_class_name_prefix(df, 'filename')\n",
        "print(df)\n",
        "# Shuffle the dataframe\n",
        "df = df.sample(frac=1).reset_index(drop=True)\n",
        "\n",
        "print('number of elements = ' , len(df))"
      ]
    },
    {
      "cell_type": "code",
      "execution_count": 27,
      "metadata": {
        "colab": {
          "base_uri": "https://localhost:8080/",
          "height": 424
        },
        "id": "mC2Q0VQd6bSl",
        "outputId": "60865eaa-4074-4d0d-ee63-2ccd495f0c4c"
      },
      "outputs": [
        {
          "data": {
            "text/html": [
              "<div>\n",
              "<style scoped>\n",
              "    .dataframe tbody tr th:only-of-type {\n",
              "        vertical-align: middle;\n",
              "    }\n",
              "\n",
              "    .dataframe tbody tr th {\n",
              "        vertical-align: top;\n",
              "    }\n",
              "\n",
              "    .dataframe thead th {\n",
              "        text-align: right;\n",
              "    }\n",
              "</style>\n",
              "<table border=\"1\" class=\"dataframe\">\n",
              "  <thead>\n",
              "    <tr style=\"text-align: right;\">\n",
              "      <th></th>\n",
              "      <th>filename</th>\n",
              "      <th>category</th>\n",
              "    </tr>\n",
              "  </thead>\n",
              "  <tbody>\n",
              "    <tr>\n",
              "      <th>0</th>\n",
              "      <td>trash/trash636.jpg</td>\n",
              "      <td>7</td>\n",
              "    </tr>\n",
              "    <tr>\n",
              "      <th>1</th>\n",
              "      <td>biological/biological726.jpg</td>\n",
              "      <td>1</td>\n",
              "    </tr>\n",
              "    <tr>\n",
              "      <th>2</th>\n",
              "      <td>paper/paper523.jpg</td>\n",
              "      <td>5</td>\n",
              "    </tr>\n",
              "    <tr>\n",
              "      <th>3</th>\n",
              "      <td>plastic/plastic565.jpg</td>\n",
              "      <td>6</td>\n",
              "    </tr>\n",
              "    <tr>\n",
              "      <th>4</th>\n",
              "      <td>paper/paper139.jpg</td>\n",
              "      <td>5</td>\n",
              "    </tr>\n",
              "    <tr>\n",
              "      <th>...</th>\n",
              "      <td>...</td>\n",
              "      <td>...</td>\n",
              "    </tr>\n",
              "    <tr>\n",
              "      <th>7638</th>\n",
              "      <td>plastic/plastic713.jpg</td>\n",
              "      <td>6</td>\n",
              "    </tr>\n",
              "    <tr>\n",
              "      <th>7639</th>\n",
              "      <td>glass/glass355210210_1.jpg</td>\n",
              "      <td>3</td>\n",
              "    </tr>\n",
              "    <tr>\n",
              "      <th>7640</th>\n",
              "      <td>glass/glass1023.jpg</td>\n",
              "      <td>3</td>\n",
              "    </tr>\n",
              "    <tr>\n",
              "      <th>7641</th>\n",
              "      <td>battery/battery627.jpg</td>\n",
              "      <td>0</td>\n",
              "    </tr>\n",
              "    <tr>\n",
              "      <th>7642</th>\n",
              "      <td>paper/paper355.jpg</td>\n",
              "      <td>5</td>\n",
              "    </tr>\n",
              "  </tbody>\n",
              "</table>\n",
              "<p>7643 rows × 2 columns</p>\n",
              "</div>"
            ],
            "text/plain": [
              "                          filename  category\n",
              "0               trash/trash636.jpg         7\n",
              "1     biological/biological726.jpg         1\n",
              "2               paper/paper523.jpg         5\n",
              "3           plastic/plastic565.jpg         6\n",
              "4               paper/paper139.jpg         5\n",
              "...                            ...       ...\n",
              "7638        plastic/plastic713.jpg         6\n",
              "7639    glass/glass355210210_1.jpg         3\n",
              "7640           glass/glass1023.jpg         3\n",
              "7641        battery/battery627.jpg         0\n",
              "7642            paper/paper355.jpg         5\n",
              "\n",
              "[7643 rows x 2 columns]"
            ]
          },
          "execution_count": 27,
          "metadata": {},
          "output_type": "execute_result"
        }
      ],
      "source": [
        "df"
      ]
    },
    {
      "cell_type": "markdown",
      "metadata": {
        "id": "QKLNMA_S6bSm"
      },
      "source": [
        "# 4.1.- Visualizar imagenes de manera aleatoria"
      ]
    },
    {
      "cell_type": "code",
      "execution_count": 28,
      "metadata": {
        "colab": {
          "base_uri": "https://localhost:8080/",
          "height": 434
        },
        "id": "MNGHJEeR6bSm",
        "outputId": "60b97d73-4f2e-4b1f-dc50-10bf5187b0d0"
      },
      "outputs": [
        {
          "name": "stdout",
          "output_type": "stream",
          "text": [
            "battery/battery604.jpg\n"
          ]
        },
        {
          "data": {
            "text/plain": [
              "<matplotlib.image.AxesImage at 0x16528a28400>"
            ]
          },
          "execution_count": 28,
          "metadata": {},
          "output_type": "execute_result"
        },
        {
          "data": {
            "image/png": "[encoded data removed]",
            "text/plain": [
              "<Figure size 640x480 with 1 Axes>"
            ]
          },
          "metadata": {},
          "output_type": "display_data"
        }
      ],
      "source": [
        "random_row = random.randint(0, len(df)-1)\n",
        "sample = df.iloc[random_row]\n",
        "randomimage = load_img(base_path +sample['filename'])\n",
        "print(sample['filename'])\n",
        "plt.imshow(randomimage)"
      ]
    },
    {
      "cell_type": "markdown",
      "metadata": {
        "id": "erB6Mb136bSm"
      },
      "source": [
        "# 4.2.- Visualizar cantidad de datos que contiene cada clase"
      ]
    },
    {
      "cell_type": "code",
      "execution_count": 29,
      "metadata": {
        "colab": {
          "base_uri": "https://localhost:8080/",
          "height": 550
        },
        "id": "CcLN-G1X6bSm",
        "outputId": "a55d0fae-21cd-4707-dafc-785c458a5f7b"
      },
      "outputs": [
        {
          "data": {
            "image/png": "[encoded data removed]",
            "text/plain": [
              "<Figure size 640x480 with 1 Axes>"
            ]
          },
          "metadata": {},
          "output_type": "display_data"
        }
      ],
      "source": [
        "df_visualization = df.copy()\n",
        "# Change the catgegories from numbers to names\n",
        "df_visualization['category'] = df_visualization['category'].apply(lambda x:categories[x] )\n",
        "\n",
        "df_visualization['category'].value_counts().plot.bar(x = 'count', y = 'category' )\n",
        "\n",
        "plt.xlabel(\"Garbage Classes\", labelpad=14)\n",
        "plt.ylabel(\"Images Count\", labelpad=14)\n",
        "plt.title(\"Count of images per class\", y=1.02);"
      ]
    },
    {
      "cell_type": "markdown",
      "metadata": {
        "id": "VERbD3HM6bSn"
      },
      "source": [
        "# 5.- Seperar datos del Dataframe"
      ]
    },
    {
      "cell_type": "code",
      "execution_count": 30,
      "metadata": {
        "colab": {
          "base_uri": "https://localhost:8080/"
        },
        "id": "nTSIxeUt6bSn",
        "outputId": "62aba80b-43c1-4198-ab7f-d3f5b20af764"
      },
      "outputs": [
        {
          "name": "stdout",
          "output_type": "stream",
          "text": [
            "train size =  764 validate size =  764 test size =  765\n"
          ]
        }
      ],
      "source": [
        "df[\"category\"] = df[\"category\"].replace(categories)\n",
        "\n",
        "\n",
        "train_df, validate_df = train_test_split(df, test_size=0.2, random_state=42)\n",
        "validate_df, test_df = train_test_split(validate_df, test_size=0.5, random_state=42)\n",
        "\n",
        "train_df = train_df.reset_index(drop=True)\n",
        "validate_df = validate_df.reset_index(drop=True)\n",
        "test_df = test_df.reset_index(drop=True)\n",
        "\n",
        "total_train = train_df.shape[0]\n",
        "total_validate = validate_df.shape[0]\n",
        "\n",
        "print('train size = ', total_validate , 'validate size = ', total_validate, 'test size = ', test_df.shape[0])"
      ]
    },
    {
      "cell_type": "markdown",
      "metadata": {
        "id": "PYfMfCit6bSn"
      },
      "source": [
        "# 6.- Deep learning(Uso del modelo pre entrenado mobilenetv2) fecha(4/9/2023)\n",
        "### Si se descargar los pesos de el modelo en https://storage.googleapis.com/tensorflow/keras-applications/mobilenet_v2/mobilenet_v2_weights_tf_dim_ordering_tf_kernels_1.0_224_no_top.h5\n",
        "Mostrar en carpeta\n"
      ]
    },
    {
      "cell_type": "code",
      "execution_count": 3,
      "metadata": {
        "id": "rW52ylLk6bSn"
      },
      "outputs": [
        {
          "name": "stdout",
          "output_type": "stream",
          "text": [
            "Model: \"sequential\"\n",
            "_________________________________________________________________\n",
            " Layer (type)                Output Shape              Param #   \n",
            "=================================================================\n",
            " lambda (Lambda)             (None, 224, 224, 3)       0         \n",
            "                                                                 \n",
            " mobilenetv2_1.00_224 (Funct  (None, 7, 7, 1280)       2257984   \n",
            " ional)                                                          \n",
            "                                                                 \n",
            " global_average_pooling2d (G  (None, 1280)             0         \n",
            " lobalAveragePooling2D)                                          \n",
            "                                                                 \n",
            " dropout (Dropout)           (None, 1280)              0         \n",
            "                                                                 \n",
            " dense (Dense)               (None, 8)                 10248     \n",
            "                                                                 \n",
            "=================================================================\n",
            "Total params: 2,268,232\n",
            "Trainable params: 10,248\n",
            "Non-trainable params: 2,257,984\n",
            "_________________________________________________________________\n"
          ]
        }
      ],
      "source": [
        "import keras.applications.mobilenet_v2 as mobilenetv2\n",
        "\n",
        "mobilenetv2_layer = mobilenetv2.MobileNetV2(include_top = False, input_shape = (IMAGE_WIDTH, IMAGE_HEIGHT,IMAGE_CHANNELS),\n",
        "                    weights = 'weights/mobilenet_v2_weights_tf_dim_ordering_tf_kernels_1.0_224_no_top.h5')\n",
        "\n",
        "# We don't want to train the imported weights\n",
        "mobilenetv2_layer.trainable = False\n",
        "\n",
        "\n",
        "model = Sequential()\n",
        "model.add(keras.Input(shape=(IMAGE_WIDTH, IMAGE_HEIGHT, IMAGE_CHANNELS)))\n",
        "\n",
        "#create a custom layer to apply the preprocessing\n",
        "def mobilenetv2_preprocessing(img):\n",
        "    return mobilenetv2.preprocess_input(img)\n",
        "\n",
        "model.add(Lambda(mobilenetv2_preprocessing))\n",
        "\n",
        "model.add(mobilenetv2_layer)\n",
        "model.add(GlobalAveragePooling2D())\n",
        "model.add(Dropout(0.5))\n",
        "model.add(Dense(len(categories), activation='softmax'))\n",
        "\n",
        "model.compile(loss='categorical_crossentropy', optimizer='adam', metrics=['categorical_accuracy'])\n",
        "\n",
        "model.summary()"
      ]
    },
    {
      "cell_type": "markdown",
      "metadata": {
        "id": "SrAYQKLw6bSo"
      },
      "source": [
        "# 7.- Entrenamiento"
      ]
    },
    {
      "cell_type": "markdown",
      "metadata": {
        "id": "xQdyi50a6bSo"
      },
      "source": [
        "# 7.1.- Aumento de datos(tecnica de entrenmiento)"
      ]
    },
    {
      "cell_type": "code",
      "execution_count": 58,
      "metadata": {
        "colab": {
          "base_uri": "https://localhost:8080/"
        },
        "id": "dyba1aJo6bSo",
        "outputId": "518a5753-372c-4dde-814d-8c539ec52709"
      },
      "outputs": [
        {
          "name": "stdout",
          "output_type": "stream",
          "text": [
            "Found 6114 validated image filenames belonging to 8 classes.\n"
          ]
        }
      ],
      "source": [
        "batch_size=64\n",
        "\n",
        "train_datagen = ImageDataGenerator(\n",
        "    #rotation_range=30,\n",
        "    #shear_range=0.1,\n",
        "    #zoom_range=0.3,\n",
        "    #horizontal_flip=True,\n",
        "    #vertical_flip = True,\n",
        "    #width_shift_range=0.2,\n",
        "    #height_shift_range=0.2\n",
        "    ##  Augmentation End  ###\n",
        ")\n",
        "\n",
        "train_generator = train_datagen.flow_from_dataframe(\n",
        "    train_df,\n",
        "    base_path,\n",
        "    x_col='filename',\n",
        "    y_col='category',\n",
        "    target_size=IMAGE_SIZE,\n",
        "    class_mode='categorical',\n",
        "    batch_size=batch_size\n",
        ")"
      ]
    },
    {
      "cell_type": "code",
      "execution_count": 33,
      "metadata": {
        "colab": {
          "base_uri": "https://localhost:8080/"
        },
        "id": "Fsfe73op6bSo",
        "outputId": "87ac6b4b-9119-4c10-ea93-e4e92daa3925"
      },
      "outputs": [
        {
          "name": "stdout",
          "output_type": "stream",
          "text": [
            "Found 764 validated image filenames belonging to 8 classes.\n"
          ]
        }
      ],
      "source": [
        "validation_datagen = ImageDataGenerator()\n",
        "\n",
        "validation_generator = validation_datagen.flow_from_dataframe(\n",
        "    validate_df,\n",
        "    base_path,\n",
        "    x_col='filename',\n",
        "    y_col='category',\n",
        "    target_size=IMAGE_SIZE,\n",
        "    class_mode='categorical',\n",
        "    batch_size=batch_size\n",
        ")"
      ]
    },
    {
      "cell_type": "code",
      "execution_count": 34,
      "metadata": {
        "colab": {
          "base_uri": "https://localhost:8080/"
        },
        "id": "-PwEeq8W6bSp",
        "outputId": "34b7acd4-51dd-4c49-9009-e2ca2f424b26"
      },
      "outputs": [
        {
          "name": "stdout",
          "output_type": "stream",
          "text": [
            "Found 765 validated image filenames belonging to 8 classes.\n"
          ]
        }
      ],
      "source": [
        "test_datagen = ImageDataGenerator()\n",
        "test_generator = test_datagen.flow_from_dataframe(\n",
        "    test_df,\n",
        "    base_path,\n",
        "    x_col='filename',\n",
        "    y_col='category',\n",
        "    target_size=IMAGE_SIZE,\n",
        "    class_mode='categorical',\n",
        "    batch_size=batch_size,\n",
        "    shuffle=False  # No necesitamos mezclar el conjunto de prueba para evaluarlo\n",
        ")"
      ]
    },
    {
      "cell_type": "markdown",
      "metadata": {
        "id": "Aqe1XJmL6bSp"
      },
      "source": [
        "# 7.2 Early stopping (tecnica de entrenamiento de datos)"
      ]
    },
    {
      "cell_type": "code",
      "execution_count": 35,
      "metadata": {
        "id": "nYMZyBdz6bSp"
      },
      "outputs": [],
      "source": [
        "early_stop = EarlyStopping(patience = 2, verbose = 1, monitor='val_categorical_accuracy' , mode='max', min_delta=0.001, restore_best_weights = True)\n",
        "\n",
        "callbacks = [early_stop]"
      ]
    },
    {
      "cell_type": "code",
      "execution_count": 59,
      "metadata": {
        "id": "3grUIcc56bSq",
        "outputId": "4b9b32e4-d01b-4852-c16d-b5932e2f3417"
      },
      "outputs": [
        {
          "name": "stdout",
          "output_type": "stream",
          "text": [
            "Epoch 1/50\n"
          ]
        },
        {
          "name": "stderr",
          "output_type": "stream",
          "text": [
            "C:\\Users\\hombr\\AppData\\Local\\Temp\\ipykernel_21244\\3154049270.py:2: UserWarning: `Model.fit_generator` is deprecated and will be removed in a future version. Please use `Model.fit`, which supports generators.\n",
            "  history = model.fit_generator(\n"
          ]
        },
        {
          "name": "stdout",
          "output_type": "stream",
          "text": [
            "95/95 [==============================] - 71s 727ms/step - loss: 1.1194 - categorical_accuracy: 0.6129 - val_loss: 0.4345 - val_categorical_accuracy: 0.8565\n",
            "Epoch 2/50\n",
            "95/95 [==============================] - 67s 710ms/step - loss: 0.5192 - categorical_accuracy: 0.8187 - val_loss: 0.3456 - val_categorical_accuracy: 0.8807\n",
            "Epoch 3/50\n",
            "95/95 [==============================] - 70s 732ms/step - loss: 0.4369 - categorical_accuracy: 0.8479 - val_loss: 0.2945 - val_categorical_accuracy: 0.8977\n",
            "Epoch 4/50\n",
            "95/95 [==============================] - 69s 730ms/step - loss: 0.3629 - categorical_accuracy: 0.8717 - val_loss: 0.2715 - val_categorical_accuracy: 0.9091\n",
            "Epoch 5/50\n",
            "95/95 [==============================] - 68s 711ms/step - loss: 0.3339 - categorical_accuracy: 0.8802 - val_loss: 0.2571 - val_categorical_accuracy: 0.9091\n",
            "Epoch 6/50\n",
            "95/95 [==============================] - 67s 705ms/step - loss: 0.3022 - categorical_accuracy: 0.8967 - val_loss: 0.2409 - val_categorical_accuracy: 0.9205\n",
            "Epoch 7/50\n",
            "95/95 [==============================] - 67s 704ms/step - loss: 0.2999 - categorical_accuracy: 0.8983 - val_loss: 0.2330 - val_categorical_accuracy: 0.9233\n",
            "Epoch 8/50\n",
            "95/95 [==============================] - 67s 706ms/step - loss: 0.2795 - categorical_accuracy: 0.9050 - val_loss: 0.2585 - val_categorical_accuracy: 0.9091\n",
            "Epoch 9/50\n",
            "95/95 [==============================] - ETA: 0s - loss: 0.2591 - categorical_accuracy: 0.9078Restoring model weights from the end of the best epoch: 7.\n",
            "95/95 [==============================] - 67s 705ms/step - loss: 0.2591 - categorical_accuracy: 0.9078 - val_loss: 0.2516 - val_categorical_accuracy: 0.9148\n",
            "Epoch 9: early stopping\n"
          ]
        },
        {
          "name": "stdout",
          "output_type": "stream",
          "text": [
            "1/1 [==============================] - 1s 531ms/step\n"
          ]
        }
      ],
      "source": [
        "EPOCHS = 50\n",
        "history = model.fit_generator(\n",
        "    train_generator,\n",
        "    epochs=EPOCHS,\n",
        "    validation_data=validation_generator,\n",
        "    validation_steps=total_validate//batch_size,\n",
        "    steps_per_epoch=total_train//batch_size,\n",
        "    callbacks=callbacks\n",
        ")"
      ]
    },
    {
      "cell_type": "markdown",
      "metadata": {
        "id": "AnO7dzSY6bSq"
      },
      "source": [
        "# 8.- Rendimiento"
      ]
    },
    {
      "cell_type": "code",
      "execution_count": 37,
      "metadata": {
        "id": "l9Nwr_hO6bSq",
        "outputId": "89be079b-ce28-4709-c805-d6ea75118fee"
      },
      "outputs": [
        {
          "data": {
            "image/png": "[encoded data removed]",
            "text/plain": [
              "<Figure size 640x480 with 2 Axes>"
            ]
          },
          "metadata": {},
          "output_type": "display_data"
        }
      ],
      "source": [
        "fig, (ax1, ax2) = plt.subplots(2, 1)\n",
        "ax1.plot(history.history['loss'], color='b', label=\"Training loss\")\n",
        "ax1.plot(history.history['val_loss'], color='r', label=\"validation loss\")\n",
        "ax1.set_yticks(np.arange(0, 0.7, 0.1))\n",
        "ax1.legend()\n",
        "\n",
        "ax2.plot(history.history['categorical_accuracy'], color='b', label=\"Training accuracy\")\n",
        "ax2.plot(history.history['val_categorical_accuracy'], color='r',label=\"Validation accuracy\")\n",
        "ax2.legend()\n",
        "\n",
        "legend = plt.legend(loc='best')\n",
        "plt.tight_layout()\n",
        "plt.show()"
      ]
    },
    {
      "cell_type": "markdown",
      "metadata": {
        "id": "6L_VBrMt6bSq"
      },
      "source": [
        "# 9.-Testeo"
      ]
    },
    {
      "cell_type": "code",
      "execution_count": 38,
      "metadata": {
        "id": "xCO83lyb6bSq",
        "outputId": "6bcb183d-78d3-4b2d-e128-ca919a8dec8e"
      },
      "outputs": [
        {
          "name": "stdout",
          "output_type": "stream",
          "text": [
            "12/12 [==============================] - 8s 650ms/step\n"
          ]
        },
        {
          "data": {
            "image/png": "[encoded data removed]",
            "text/plain": [
              "<Figure size 1000x800 with 2 Axes>"
            ]
          },
          "metadata": {},
          "output_type": "display_data"
        }
      ],
      "source": [
        "from sklearn.metrics import confusion_matrix\n",
        "import seaborn as sns\n",
        "import matplotlib.pyplot as plt\n",
        "\n",
        "y_pred = model.predict(test_generator)\n",
        "y_pred_classes = np.argmax(y_pred, axis=1)\n",
        "y_true = test_generator.classes  # Obtener las etiquetas verdaderas del generador de prueba\n",
        "\n",
        "# Calcular la matriz de confusión\n",
        "confusion_mtx = confusion_matrix(y_true, y_pred_classes)\n",
        "\n",
        "# Visualizar la matriz de confusión\n",
        "plt.figure(figsize=(10, 8))\n",
        "sns.heatmap(confusion_mtx, annot=True, fmt='d', cmap='Blues')\n",
        "plt.xlabel('Predicted')\n",
        "plt.ylabel('True')\n",
        "plt.show()"
      ]
    },
    {
      "cell_type": "code",
      "execution_count": 39,
      "metadata": {
        "id": "24Xtx_me6bSr",
        "outputId": "eb3b4818-bc1c-41d9-ba99-0eeed90d9b79"
      },
      "outputs": [
        {
          "name": "stdout",
          "output_type": "stream",
          "text": [
            "Accuracy: 0.8901960784313725\n"
          ]
        }
      ],
      "source": [
        "from sklearn.metrics import accuracy_score\n",
        "\n",
        "accuracy = accuracy_score(y_true, y_pred_classes)\n",
        "print(f'Accuracy: {accuracy}')"
      ]
    },
    {
      "cell_type": "code",
      "execution_count": 40,
      "metadata": {
        "id": "vj9A-NEP6bSr",
        "outputId": "1a843281-82c7-496f-b79d-f66d6383f1d7"
      },
      "outputs": [
        {
          "name": "stdout",
          "output_type": "stream",
          "text": [
            "Loss: 0.3156473934650421\n"
          ]
        }
      ],
      "source": [
        "loss = model.evaluate(test_generator, verbose=0)[0]\n",
        "print(f'Loss: {loss}')"
      ]
    },
    {
      "cell_type": "code",
      "execution_count": 41,
      "metadata": {
        "id": "nOL_9uex6bSr",
        "outputId": "2fda5223-461e-4914-af2c-f7a51c0c4754"
      },
      "outputs": [
        {
          "name": "stdout",
          "output_type": "stream",
          "text": [
            "F1 Score: 0.8901129724481195\n"
          ]
        }
      ],
      "source": [
        "from sklearn.metrics import f1_score\n",
        "f1 = f1_score(y_true, y_pred_classes, average='weighted')\n",
        "print(f'F1 Score: {f1}')"
      ]
    },
    {
      "cell_type": "markdown",
      "metadata": {
        "id": "5Q_sOBWi6bSr"
      },
      "source": [
        "# 10.- Guardar Modelo"
      ]
    },
    {
      "cell_type": "code",
      "execution_count": 42,
      "metadata": {
        "colab": {
          "base_uri": "https://localhost:8080/"
        },
        "id": "w0GQPV0w6bSr",
        "outputId": "1866cc0e-d619-4222-dc56-ee21357727fb"
      },
      "outputs": [],
      "source": [
        "model.save(\"modelo.h5\")"
      ]
    },
    {
      "cell_type": "markdown",
      "metadata": {
        "id": "cRAxeRXJ6bSr"
      },
      "source": [
        "# 11.- Exportar el modelo en js"
      ]
    },
    {
      "cell_type": "code",
      "execution_count": null,
      "metadata": {
        "id": "5kR84QH36bSr",
        "outputId": "1e3cdb4d-db42-4dd4-e71f-f8d5cdb19992"
      },
      "outputs": [
        {
          "name": "stderr",
          "output_type": "stream",
          "text": [
            "Ya existe el subdirectorio o el archivo carpeta_salida.\n"
          ]
        }
      ],
      "source": [
        "!mkdir carpeta_salida"
      ]
    },
    {
      "cell_type": "code",
      "execution_count": null,
      "metadata": {
        "id": "RKx0V6dM6bSs"
      },
      "outputs": [],
      "source": [
        "!tensorflowjs_converter --input_format keras modelo.h5 carpeta_salida"
      ]
    },
    {
      "cell_type": "markdown",
      "metadata": {
        "id": "3lQmSS9-EQjA"
      },
      "source": [
        "# 12.- Diseño Interfaz"
      ]
    },
    {
      "cell_type": "code",
      "execution_count": 4,
      "metadata": {
        "id": "6NJr-o0AT875"
      },
      "outputs": [],
      "source": [
        "model = tf.keras.models.load_model('modelo.h5')"
      ]
    },
    {
      "cell_type": "code",
      "execution_count": 10,
      "metadata": {
        "colab": {
          "base_uri": "https://localhost:8080/"
        },
        "id": "tMJwKGgkf3z3",
        "outputId": "ee03b009-e8e6-4603-8710-a2552feb7bdb"
      },
      "outputs": [
        {
          "name": "stderr",
          "output_type": "stream",
          "text": [
            "C:\\Users\\hombr\\AppData\\Local\\Packages\\PythonSoftwareFoundation.Python.3.10_qbz5n2kfra8p0\\LocalCache\\local-packages\\Python310\\site-packages\\tqdm\\auto.py:22: TqdmWarning: IProgress not found. Please update jupyter and ipywidgets. See https://ipywidgets.readthedocs.io/en/stable/user_install.html\n",
            "  from .autonotebook import tqdm as notebook_tqdm\n"
          ]
        }
      ],
      "source": [
        "import gradio as gr"
      ]
    },
    {
      "cell_type": "code",
      "execution_count": 6,
      "metadata": {},
      "outputs": [
        {
          "name": "stdout",
          "output_type": "stream",
          "text": [
            "1/1 [==============================] - 0s 31ms/step\n",
            "voces_auron/3.wav\n",
            "voces_auron/3.wav\n",
            "Reproduciendo: voces_auron/3.wav\n",
            "Reproducción completa\n",
            "1/1 [==============================] - 0s 28ms/step\n",
            "voces_auron/2.wav\n",
            "voces_auron/2.wav\n",
            "Reproduciendo: voces_auron/2.wav\n",
            "Reproducción completa\n",
            "1/1 [==============================] - 0s 29ms/step\n",
            "voces_auron/2.wav\n",
            "voces_auron/2.wav\n",
            "Reproduciendo: voces_auron/2.wav\n",
            "Reproducción completa\n",
            "1/1 [==============================] - 0s 29ms/step\n",
            "voces_auron/6.wav\n",
            "voces_auron/6.wav\n",
            "Reproduciendo: voces_auron/6.wav\n",
            "Reproducción completa\n",
            "1/1 [==============================] - 0s 28ms/step\n",
            "voces_auron/6.wav\n",
            "voces_auron/6.wav\n",
            "Reproduciendo: voces_auron/6.wav\n",
            "Reproducción completa\n",
            "1/1 [==============================] - 0s 30ms/step\n",
            "voces_auron/5.wav\n",
            "voces_auron/5.wav\n",
            "Reproduciendo: voces_auron/5.wav\n",
            "Reproducción completa\n",
            "1/1 [==============================] - 0s 30ms/step\n",
            "voces_auron/3.wav\n",
            "voces_auron/3.wav\n",
            "Reproduciendo: voces_auron/3.wav\n",
            "Reproducción completa\n",
            "1/1 [==============================] - 0s 30ms/step\n",
            "voces_auron/8.wav\n",
            "voces_auron/8.wav\n",
            "Reproduciendo: voces_auron/8.wav\n",
            "Reproducción completa\n"
          ]
        }
      ],
      "source": [
        "categories_traduccion = {0: 'Bateria', 1: 'Biologico', 2: 'carton', 3: 'vidrio', 4: 'metal', 5: 'papel', 6: 'plastico',7: 'basura'}"
      ]
    },
    {
      "cell_type": "code",
      "execution_count": 12,
      "metadata": {
        "colab": {
          "base_uri": "https://localhost:8080/",
          "height": 791
        },
        "id": "Skfy6U47Eeti",
        "outputId": "3895af7c-b021-4f13-d124-b6a200d3bee1"
      },
      "outputs": [
        {
          "name": "stderr",
          "output_type": "stream",
          "text": [
            "C:\\Users\\hombr\\AppData\\Local\\Temp\\ipykernel_18364\\2716927368.py:7: GradioDeprecationWarning: Usage of gradio.inputs is deprecated, and will not be supported in the future, please import your component from gradio.components\n",
            "  interfaz = gr.Interface(fn=clasificar, inputs=gr.inputs.Image(shape=(224,224),source='upload',label='Captura desde cámara'),\n",
            "C:\\Users\\hombr\\AppData\\Local\\Temp\\ipykernel_18364\\2716927368.py:7: GradioDeprecationWarning: `optional` parameter is deprecated, and it has no effect\n",
            "  interfaz = gr.Interface(fn=clasificar, inputs=gr.inputs.Image(shape=(224,224),source='upload',label='Captura desde cámara'),\n",
            "C:\\Users\\hombr\\AppData\\Local\\Temp\\ipykernel_18364\\2716927368.py:8: GradioDeprecationWarning: Usage of gradio.outputs is deprecated, and will not be supported in the future, please import your components from gradio.components\n",
            "  outputs=gr.outputs.Label(num_top_classes=7),capture_session=True).launch(debug = False,share='True')\n",
            "C:\\Users\\hombr\\AppData\\Local\\Temp\\ipykernel_18364\\2716927368.py:8: GradioUnusedKwargWarning: You have unused kwarg parameters in Label, please remove them: {'type': 'auto'}\n",
            "  outputs=gr.outputs.Label(num_top_classes=7),capture_session=True).launch(debug = False,share='True')\n",
            "C:\\Users\\hombr\\AppData\\Local\\Temp\\ipykernel_18364\\2716927368.py:7: GradioDeprecationWarning: `capture_session` parameter is deprecated, and it has no effect\n",
            "  interfaz = gr.Interface(fn=clasificar, inputs=gr.inputs.Image(shape=(224,224),source='upload',label='Captura desde cámara'),\n"
          ]
        },
        {
          "name": "stdout",
          "output_type": "stream",
          "text": [
            "Running on local URL:  http://127.0.0.1:7860\n",
            "\n",
            "Could not create share link. Please check your internet connection or our status page: https://status.gradio.app.\n"
          ]
        },
        {
          "data": {
            "text/html": [
              "<div><iframe src=\"http://127.0.0.1:7860/\" width=\"100%\" height=\"500\" allow=\"autoplay; camera; microphone; clipboard-read; clipboard-write;\" frameborder=\"0\" allowfullscreen></iframe></div>"
            ],
            "text/plain": [
              "<IPython.core.display.HTML object>"
            ]
          },
          "metadata": {},
          "output_type": "display_data"
        },
        {
          "name": "stdout",
          "output_type": "stream",
          "text": [
            "1/1 [==============================] - 1s 597ms/step\n"
          ]
        }
      ],
      "source": [
        "def clasificar(img):\n",
        "  img_reshape = img.reshape(-1,224,224,3)\n",
        "  pred = model.predict(img_reshape)[0]\n",
        "  return {categories_traduccion[i]:float(pred[i]) for i in range(8)}\n",
        "\n",
        "\n",
        "interfaz = gr.Interface(fn=clasificar, inputs=gr.inputs.Image(shape=(224,224),source='upload',label='Captura desde cámara'),\n",
        "                        outputs=gr.outputs.Label(num_top_classes=7),capture_session=True).launch(debug = False,share='True')\n"
      ]
    },
    {
      "cell_type": "code",
      "execution_count": 7,
      "metadata": {},
      "outputs": [
        {
          "name": "stderr",
          "output_type": "stream",
          "text": [
            "C:\\Users\\hombr\\AppData\\Local\\Temp\\ipykernel_27532\\1266736797.py:52: GradioDeprecationWarning: Usage of gradio.inputs is deprecated, and will not be supported in the future, please import your component from gradio.components\n",
            "  inputs=gr.inputs.Image(shape=(224, 224), source='upload', label='Captura desde cámara'),\n",
            "C:\\Users\\hombr\\AppData\\Local\\Temp\\ipykernel_27532\\1266736797.py:52: GradioDeprecationWarning: `optional` parameter is deprecated, and it has no effect\n",
            "  inputs=gr.inputs.Image(shape=(224, 224), source='upload', label='Captura desde cámara'),\n",
            "C:\\Users\\hombr\\AppData\\Local\\Temp\\ipykernel_27532\\1266736797.py:53: GradioDeprecationWarning: Usage of gradio.outputs is deprecated, and will not be supported in the future, please import your components from gradio.components\n",
            "  outputs=gr.outputs.Label(num_top_classes=7),\n",
            "C:\\Users\\hombr\\AppData\\Local\\Temp\\ipykernel_27532\\1266736797.py:53: GradioUnusedKwargWarning: You have unused kwarg parameters in Label, please remove them: {'type': 'auto'}\n",
            "  outputs=gr.outputs.Label(num_top_classes=7),\n",
            "C:\\Users\\hombr\\AppData\\Local\\Temp\\ipykernel_27532\\1266736797.py:50: GradioDeprecationWarning: `capture_session` parameter is deprecated, and it has no effect\n",
            "  interfaz = gr.Interface(\n"
          ]
        },
        {
          "name": "stdout",
          "output_type": "stream",
          "text": [
            "Running on local URL:  http://127.0.0.1:7861\n",
            "\n",
            "Could not create share link. Please check your internet connection or our status page: https://status.gradio.app.\n"
          ]
        },
        {
          "data": {
            "text/html": [
              "<div><iframe src=\"http://127.0.0.1:7861/\" width=\"100%\" height=\"500\" allow=\"autoplay; camera; microphone; clipboard-read; clipboard-write;\" frameborder=\"0\" allowfullscreen></iframe></div>"
            ],
            "text/plain": [
              "<IPython.core.display.HTML object>"
            ]
          },
          "metadata": {},
          "output_type": "display_data"
        },
        {
          "data": {
            "text/plain": []
          },
          "execution_count": 7,
          "metadata": {},
          "output_type": "execute_result"
        },
        {
          "name": "stdout",
          "output_type": "stream",
          "text": [
            "1/1 [==============================] - 0s 31ms/step\n",
            "Reproduciendo: voces_auron/6.wav\n",
            "Reproducción completa\n"
          ]
        }
      ],
      "source": [
        "from playsound import playsound\n",
        "import gradio as gr\n",
        "\n",
        "# Crea un diccionario que mapea categorías a archivos de audio correspondientes\n",
        "audio_files = {\n",
        "    0: 'voces_auron/1.wav',\n",
        "    1: 'voces_auron/2.wav',\n",
        "    2: 'voces_auron/3.wav',\n",
        "    3: 'voces_auron/4.wav',\n",
        "    4: 'voces_auron/5.wav',\n",
        "    5: 'voces_auron/6.wav',\n",
        "    6: 'voces_auron/7.wav',\n",
        "    7: 'voces_auron/8.wav'\n",
        "}\n",
        "\n",
        "# Inicializa pygame para la reproducción de audio\n",
        "def clasificar(img):\n",
        "    img_reshape = img.reshape(-1, 224, 224, 3)\n",
        "    pred = model.predict(img_reshape)[0]\n",
        "    predictions = {categories_traduccion[i]: float(pred[i]) for i in range(8)}\n",
        "    \n",
        "    # Encuentra la categoría con la mayor probabilidad\n",
        "    categoria_predicha = max(predictions, key=predictions.get)\n",
        "    \n",
        "    categorias_audio = {\n",
        "        'Bateria': audio_files[0],\n",
        "        'Biologico': audio_files[1],\n",
        "        'carton': audio_files[2],\n",
        "        'vidrio': audio_files[3],\n",
        "        'metal': audio_files[4],\n",
        "        'papel': audio_files[5],\n",
        "        'plastico': audio_files[6],\n",
        "        'basura': audio_files[7]\n",
        "    }\n",
        "    \n",
        "    # Reproduce el archivo de audio correspondiente a la categoría predicha\n",
        "    audio_file = categorias_audio.get(categoria_predicha)\n",
        "    if audio_file:\n",
        "        reproducir_audio(audio_file)\n",
        "    return predictions\n",
        "\n",
        "def reproducir_audio(audio_file):\n",
        "    try:\n",
        "        print(f\"Reproduciendo: {audio_file}\")\n",
        "        playsound(audio_file)\n",
        "        print(\"Reproducción completa\")\n",
        "    except Exception as e:\n",
        "        print(f\"Error al reproducir audio: {e}\")\n",
        "\n",
        "interfaz = gr.Interface(\n",
        "    fn=clasificar,\n",
        "    inputs=gr.inputs.Image(shape=(224, 224), source='upload', label='Captura desde cámara'),\n",
        "    outputs=gr.outputs.Label(num_top_classes=7),\n",
        "    capture_session=True\n",
        ")\n",
        "\n",
        "interfaz.launch(debug=False, share=True)"
      ]
    }
  ],
  "metadata": {
    "accelerator": "GPU",
    "colab": {
      "gpuType": "T4",
      "provenance": []
    },
    "kernelspec": {
      "display_name": "Python 3",
      "name": "python3"
    },
    "language_info": {
      "codemirror_mode": {
        "name": "ipython",
        "version": 3
      },
      "file_extension": ".py",
      "mimetype": "text/x-python",
      "name": "python",
      "nbconvert_exporter": "python",
      "pygments_lexer": "ipython3",
      "version": "3.10.11"
    }
  },
  "nbformat": 4,
  "nbformat_minor": 0
}
